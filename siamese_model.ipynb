{
 "cells": [
  {
   "cell_type": "code",
   "execution_count": 1,
   "id": "032ba1e1",
   "metadata": {},
   "outputs": [
    {
     "name": "stderr",
     "output_type": "stream",
     "text": [
      "2023-04-25 21:07:07.299219: I tensorflow/core/platform/cpu_feature_guard.cc:193] This TensorFlow binary is optimized with oneAPI Deep Neural Network Library (oneDNN) to use the following CPU instructions in performance-critical operations:  AVX2 FMA\n",
      "To enable them in other operations, rebuild TensorFlow with the appropriate compiler flags.\n"
     ]
    }
   ],
   "source": [
    "import tensorflow as tf\n",
    "import numpy as np\n",
    "import matplotlib.pyplot as plt\n",
    "import os\n",
    "import cv2\n",
    "import random\n",
    "from tqdm import tqdm\n",
    "from datetime import datetime\n",
    "from sklearn.utils import shuffle\n",
    "import dlib\n",
    "from imutils import face_utils\n",
    "\n",
    "%load_ext tensorboard"
   ]
  },
  {
   "cell_type": "code",
   "execution_count": 2,
   "id": "2b9a945e",
   "metadata": {},
   "outputs": [
    {
     "name": "stderr",
     "output_type": "stream",
     "text": [
      "2023-04-25 21:07:19.169243: I tensorflow/core/platform/cpu_feature_guard.cc:193] This TensorFlow binary is optimized with oneAPI Deep Neural Network Library (oneDNN) to use the following CPU instructions in performance-critical operations:  AVX2 FMA\n",
      "To enable them in other operations, rebuild TensorFlow with the appropriate compiler flags.\n"
     ]
    }
   ],
   "source": [
    "base_dir = \"result\"\n",
    "\n",
    "stamp = datetime.now().strftime(\"%Y%m%d-%H%M%S\")\n",
    "logdir = os.path.join(base_dir, 'logs/func/%s' % stamp)\n",
    "writer = tf.summary.create_file_writer(logdir)\n",
    "\n",
    "scalar_logdir = os.path.join(base_dir, 'logs/scalars/%s' % stamp)\n",
    "file_writer = tf.summary.create_file_writer(scalar_logdir + \"/metrics\")\n",
    "\n",
    "checkpoint_path = os.path.join(base_dir, 'logs/model/siamese')"
   ]
  },
  {
   "cell_type": "code",
   "execution_count": 3,
   "id": "3c31e522",
   "metadata": {},
   "outputs": [],
   "source": [
    "K = tf.keras.backend\n",
    "\n",
    "def preprocess_input(x, data_format = None, version=1):\n",
    "    x_temp = np.copy(x)\n",
    "    if data_format is None:\n",
    "        data_format = K.image_data_format()\n",
    "    assert data_format in {'channels_last', 'channels_first'}\n",
    "    \n",
    "    if version==1:\n",
    "        if data_format == 'channels_first':\n",
    "            x_temp = x_temp[:, ::-1, ...]\n",
    "            x_temp[:, 0, :, :] -= 93.5940\n",
    "            x_temp[:, 1, :, :] -= 104.7642\n",
    "            x_temp[:, 2, :, :] -= 129.1863\n",
    "        else:\n",
    "            x_temp = x_temp[..., ::-1]\n",
    "            x_temp[..., 0] -= 93.5940\n",
    "            x_temp[..., 1] -= 104.7624\n",
    "            x_temp[..., 2] -= 129.1863\n",
    "    elif version == 2:\n",
    "        if data_format == 'channels_first':\n",
    "            x_temp = x_temp[:, ::-1, ...]\n",
    "            x_temp[:, 0, :, :] -= 91.4953\n",
    "            x_temp[:, 1, :, :] -= 103.8827\n",
    "            x_temp[:, 2, :, :] -= 131.0912\n",
    "        else:\n",
    "            x_temp = x_temp[..., ::-1]\n",
    "            x_temp[..., 0] -= 91.4953\n",
    "            x_temp[..., 1] -= 103.8827\n",
    "            x_temp[..., 2] -= 131.0912\n",
    "    else:\n",
    "        raise NotImplementedError\n",
    "\n",
    "    return x_temp"
   ]
  },
  {
   "cell_type": "code",
   "execution_count": 4,
   "id": "5596b13e",
   "metadata": {},
   "outputs": [],
   "source": [
    "class DataGenerator(tf.keras.utils.Sequence):\n",
    "    def __init__(self, dataset_path, batch_size=32, shuffle=True):\n",
    "        self.dataset = self.create_dataset(dataset_path)\n",
    "        self.dataset_path = dataset_path\n",
    "        self.shuffle = shuffle\n",
    "        self.batch_size = batch_size\n",
    "        self.num_people = len(list(self.dataset.keys()))\n",
    "        self.on_epoch_end()\n",
    "        \n",
    "    def __getitem__(self, index):\n",
    "        people = list(self.dataset.keys())[index * self.batch_size: (index + 1) * self.batch_size]\n",
    "        P = []\n",
    "        A = []\n",
    "        N = []\n",
    "        \n",
    "        for person in people:\n",
    "            anchor_index = random.randint(0, len(self.dataset[person])-1)\n",
    "            anchor_person = self.get_image(person, anchor_index)\n",
    "            \n",
    "            positive_index = random.randint(0, len(self.dataset[person])-1)\n",
    "            while positive_index == anchor_index:\n",
    "                positive_index = random.randint(0, len(self.dataset[person])-1)\n",
    "            positive_person = self.get_image(person, positive_index)\n",
    "            \n",
    "            negative_index = random.randint(0, self.num_people-1)\n",
    "            negative_person = list(self.dataset.keys())[negative_index]\n",
    "            while negative_person == person:\n",
    "                negative_index = random.randint(0, self.num_people-1)\n",
    "                negative_person = list(self.dataset.keys())[negative_index]\n",
    "            \n",
    "            neg_index = random.randint(0, len(self.dataset[negative_person])-1)\n",
    "            neg_person = self.get_image(negative_person, neg_index)\n",
    "            \n",
    "            P.append(positive_person)\n",
    "            A.append(anchor_person)\n",
    "            N.append(neg_person)\n",
    "            \n",
    "        A = np.asarray(A)\n",
    "        P = np.asarray(P)\n",
    "        N = np.asarray(N)\n",
    "        \n",
    "        return [A, P, N]\n",
    "    \n",
    "    def __len__(self):\n",
    "        return self.num_people // self.batch_size\n",
    "    \n",
    "    def create_dataset(self, dataset_path):\n",
    "        with open(os.path.join(dataset_path, \"list.txt\"), 'r') as f:\n",
    "            dataset = {}\n",
    "            image_list = f.read().split()\n",
    "            for image in image_list:\n",
    "                folder_name, file_name = image.split('/')\n",
    "                if folder_name in dataset.keys():\n",
    "                    dataset[folder_name].append(file_name)\n",
    "                else:\n",
    "                    dataset[folder_name] = [file_name]\n",
    "                    \n",
    "        return dataset\n",
    "    \n",
    "    def on_epoch_end(self):\n",
    "        if self.shuffle:\n",
    "            keys = list(self.dataset.keys())\n",
    "            random.shuffle(keys)\n",
    "            dataset_ = {}\n",
    "            for key in keys:\n",
    "                dataset_[key] = self.dataset[key]\n",
    "            self.dataset = dataset_\n",
    "            \n",
    "    def get_image(self, person, index):\n",
    "        img = cv2.imread(os.path.join(self.dataset_path, os.path.join('images/' + person, self.dataset[person][index])))\n",
    "        img = cv2.resize(img, (224, 224))\n",
    "        img = np.asarray(img, dtype=np.float64)\n",
    "        img = preprocess_input(img)\n",
    "        \n",
    "        return img"
   ]
  },
  {
   "cell_type": "code",
   "execution_count": 5,
   "id": "e640d5ea",
   "metadata": {},
   "outputs": [],
   "source": [
    "embedding = tf.keras.models.Sequential([\n",
    "    tf.keras.layers.Convolution2D(64, (3, 3), activation='relu', padding=\"SAME\", input_shape=(224, 224, 3)),\n",
    "    tf.keras.layers.Convolution2D(64, (3, 3), activation='relu', padding=\"SAME\"),\n",
    "    tf.keras.layers.MaxPooling2D((2,2), strides=(2,2)),\n",
    "    \n",
    "    tf.keras.layers.Convolution2D(128, (3, 3), activation='relu', padding=\"SAME\"),\n",
    "    tf.keras.layers.Convolution2D(128, (3, 3), activation='relu', padding=\"SAME\"),\n",
    "    tf.keras.layers.MaxPooling2D((2,2), strides=(2,2)),\n",
    "    \n",
    "    tf.keras.layers.Convolution2D(256, (3, 3), activation='relu', padding=\"SAME\"),\n",
    "    tf.keras.layers.Convolution2D(256, (3, 3), activation='relu', padding=\"SAME\"),\n",
    "    tf.keras.layers.Convolution2D(256, (3, 3), activation='relu', padding=\"SAME\"),\n",
    "    tf.keras.layers.MaxPooling2D((2,2), strides=(2,2)),\n",
    "    \n",
    "    tf.keras.layers.Convolution2D(512, (3, 3), activation='relu', padding=\"SAME\"),\n",
    "    tf.keras.layers.Convolution2D(512, (3, 3), activation='relu', padding=\"SAME\"),\n",
    "    tf.keras.layers.Convolution2D(512, (3, 3), activation='relu', padding=\"SAME\"),\n",
    "    tf.keras.layers.MaxPooling2D((2,2), strides=(2,2)),\n",
    "    \n",
    "    tf.keras.layers.Convolution2D(512, (3, 3), activation='relu', padding=\"SAME\"),\n",
    "    tf.keras.layers.Convolution2D(512, (3, 3), activation='relu', padding=\"SAME\"),\n",
    "    tf.keras.layers.Convolution2D(512, (3, 3), activation='relu', padding=\"SAME\"),\n",
    "    tf.keras.layers.MaxPooling2D((2,2), strides=(2,2),),\n",
    "    \n",
    "    tf.keras.layers.Flatten(),\n",
    "    \n",
    "    tf.keras.layers.Dense(4096, activation='relu'),\n",
    "    tf.keras.layers.Dropout(0.5),\n",
    "    tf.keras.layers.Dense(4096, activation='relu'),\n",
    "    tf.keras.layers.Dropout(0.5),\n",
    "    tf.keras.layers.Dense(2622, activation='softmax')\n",
    "])"
   ]
  },
  {
   "cell_type": "code",
   "execution_count": 6,
   "id": "e87d31fe",
   "metadata": {},
   "outputs": [
    {
     "name": "stdout",
     "output_type": "stream",
     "text": [
      "Model: \"sequential\"\n",
      "_________________________________________________________________\n",
      " Layer (type)                Output Shape              Param #   \n",
      "=================================================================\n",
      " conv2d (Conv2D)             (None, 224, 224, 64)      1792      \n",
      "                                                                 \n",
      " conv2d_1 (Conv2D)           (None, 224, 224, 64)      36928     \n",
      "                                                                 \n",
      " max_pooling2d (MaxPooling2D  (None, 112, 112, 64)     0         \n",
      " )                                                               \n",
      "                                                                 \n",
      " conv2d_2 (Conv2D)           (None, 112, 112, 128)     73856     \n",
      "                                                                 \n",
      " conv2d_3 (Conv2D)           (None, 112, 112, 128)     147584    \n",
      "                                                                 \n",
      " max_pooling2d_1 (MaxPooling  (None, 56, 56, 128)      0         \n",
      " 2D)                                                             \n",
      "                                                                 \n",
      " conv2d_4 (Conv2D)           (None, 56, 56, 256)       295168    \n",
      "                                                                 \n",
      " conv2d_5 (Conv2D)           (None, 56, 56, 256)       590080    \n",
      "                                                                 \n",
      " conv2d_6 (Conv2D)           (None, 56, 56, 256)       590080    \n",
      "                                                                 \n",
      " max_pooling2d_2 (MaxPooling  (None, 28, 28, 256)      0         \n",
      " 2D)                                                             \n",
      "                                                                 \n",
      " conv2d_7 (Conv2D)           (None, 28, 28, 512)       1180160   \n",
      "                                                                 \n",
      " conv2d_8 (Conv2D)           (None, 28, 28, 512)       2359808   \n",
      "                                                                 \n",
      " conv2d_9 (Conv2D)           (None, 28, 28, 512)       2359808   \n",
      "                                                                 \n",
      " max_pooling2d_3 (MaxPooling  (None, 14, 14, 512)      0         \n",
      " 2D)                                                             \n",
      "                                                                 \n",
      " conv2d_10 (Conv2D)          (None, 14, 14, 512)       2359808   \n",
      "                                                                 \n",
      " conv2d_11 (Conv2D)          (None, 14, 14, 512)       2359808   \n",
      "                                                                 \n",
      " conv2d_12 (Conv2D)          (None, 14, 14, 512)       2359808   \n",
      "                                                                 \n",
      " max_pooling2d_4 (MaxPooling  (None, 7, 7, 512)        0         \n",
      " 2D)                                                             \n",
      "                                                                 \n",
      " flatten (Flatten)           (None, 25088)             0         \n",
      "                                                                 \n",
      " dense (Dense)               (None, 4096)              102764544 \n",
      "                                                                 \n",
      " dropout (Dropout)           (None, 4096)              0         \n",
      "                                                                 \n",
      " dense_1 (Dense)             (None, 4096)              16781312  \n",
      "                                                                 \n",
      " dropout_1 (Dropout)         (None, 4096)              0         \n",
      "                                                                 \n",
      " dense_2 (Dense)             (None, 2622)              10742334  \n",
      "                                                                 \n",
      "=================================================================\n",
      "Total params: 145,002,878\n",
      "Trainable params: 145,002,878\n",
      "Non-trainable params: 0\n",
      "_________________________________________________________________\n"
     ]
    }
   ],
   "source": [
    "embedding.summary()"
   ]
  },
  {
   "cell_type": "code",
   "execution_count": 7,
   "id": "a5108052",
   "metadata": {},
   "outputs": [],
   "source": [
    "embedding.load_weights(os.path.join('rcmalli_vggface_tf_vgg16.h5'))"
   ]
  },
  {
   "cell_type": "code",
   "execution_count": 8,
   "id": "662f9293",
   "metadata": {},
   "outputs": [],
   "source": [
    "embedding.pop()\n",
    "embedding.add(tf.keras.layers.Dense(128, use_bias=False))"
   ]
  },
  {
   "cell_type": "code",
   "execution_count": 9,
   "id": "ffeaef5f",
   "metadata": {},
   "outputs": [],
   "source": [
    "for layer in embedding.layers[:-2]:\n",
    "    layer.trainable = False"
   ]
  },
  {
   "cell_type": "code",
   "execution_count": 10,
   "id": "29810ade",
   "metadata": {},
   "outputs": [
    {
     "data": {
      "text/plain": [
       "[<keras.layers.convolutional.conv2d.Conv2D at 0x7fbec994dac0>,\n",
       " <keras.layers.convolutional.conv2d.Conv2D at 0x7fbeb3810c10>,\n",
       " <keras.layers.pooling.max_pooling2d.MaxPooling2D at 0x7fbeb38468e0>,\n",
       " <keras.layers.convolutional.conv2d.Conv2D at 0x7fbeb381ce50>,\n",
       " <keras.layers.convolutional.conv2d.Conv2D at 0x7fbeb381cd90>,\n",
       " <keras.layers.pooling.max_pooling2d.MaxPooling2D at 0x7fbeb381c760>,\n",
       " <keras.layers.convolutional.conv2d.Conv2D at 0x7fbec99e64c0>,\n",
       " <keras.layers.convolutional.conv2d.Conv2D at 0x7fbec99e68e0>,\n",
       " <keras.layers.convolutional.conv2d.Conv2D at 0x7fbec99fc790>,\n",
       " <keras.layers.pooling.max_pooling2d.MaxPooling2D at 0x7fbeb38418e0>,\n",
       " <keras.layers.convolutional.conv2d.Conv2D at 0x7fbeb38d73d0>,\n",
       " <keras.layers.convolutional.conv2d.Conv2D at 0x7fbeb38d7490>,\n",
       " <keras.layers.convolutional.conv2d.Conv2D at 0x7fbeb38d7a00>,\n",
       " <keras.layers.pooling.max_pooling2d.MaxPooling2D at 0x7fbeb38d8070>,\n",
       " <keras.layers.convolutional.conv2d.Conv2D at 0x7fbeb38d8760>,\n",
       " <keras.layers.convolutional.conv2d.Conv2D at 0x7fbeb38d8820>,\n",
       " <keras.layers.convolutional.conv2d.Conv2D at 0x7fbeb38d8d90>,\n",
       " <keras.layers.pooling.max_pooling2d.MaxPooling2D at 0x7fbeb38417c0>,\n",
       " <keras.layers.reshaping.flatten.Flatten at 0x7fbeb38db340>,\n",
       " <keras.layers.core.dense.Dense at 0x7fbeb38dbd60>,\n",
       " <keras.layers.regularization.dropout.Dropout at 0x7fbeb38dbe20>,\n",
       " <keras.layers.core.dense.Dense at 0x7fbeb3841160>,\n",
       " <keras.layers.regularization.dropout.Dropout at 0x7fbeb38df310>,\n",
       " <keras.layers.core.dense.Dense at 0x7fbeb38314c0>]"
      ]
     },
     "execution_count": 10,
     "metadata": {},
     "output_type": "execute_result"
    }
   ],
   "source": [
    "embedding.layers"
   ]
  },
  {
   "cell_type": "code",
   "execution_count": 11,
   "id": "740f0f2e",
   "metadata": {},
   "outputs": [],
   "source": [
    "class SiameseNetwork(tf.keras.Model):\n",
    "    def __init__(self, embedding):\n",
    "        super(SiameseNetwork, self).__init__()\n",
    "        self.embedding = embedding\n",
    "        \n",
    "    @tf.function\n",
    "    def call(self, inputs):\n",
    "        anchor_img, pos_img, neg_img = inputs\n",
    "        with tf.name_scope(\"Anchor\") as scope:\n",
    "            feature_1 = self.embedding(anchor_img)\n",
    "            feature_1 = tf.math.l2_normalize(feature_1, axis=-1)\n",
    "        with tf.name_scope(\"Positive\") as scope:\n",
    "            feature_2 = self.embedding(pos_img)\n",
    "            feature_2 = tf.math.l2_normalize(feature_2, axis=-1)\n",
    "        with tf.name_scope(\"Negative\") as scope:\n",
    "            feature_3 = self.embedding(neg_img)\n",
    "            feature_3 = tf.math.l2_normalize(feature_3, axis=-1)\n",
    "        \n",
    "        return [feature_1, feature_2, feature_3]\n",
    "    \n",
    "    @tf.function\n",
    "    def get_features(self, inputs):\n",
    "        return tf.math.l2_normalize(self.embedding(inputs), axis=-1)"
   ]
  },
  {
   "cell_type": "code",
   "execution_count": 12,
   "id": "8b9d1bd9",
   "metadata": {},
   "outputs": [],
   "source": [
    "model = SiameseNetwork(embedding)"
   ]
  },
  {
   "cell_type": "code",
   "execution_count": 13,
   "id": "ea01efba",
   "metadata": {},
   "outputs": [],
   "source": [
    "model.compile(optimizer = tf.keras.optimizers.Adam(learning_rate=0.00006),\n",
    "              loss = tf.keras.losses.BinaryCrossentropy(),\n",
    "             metrics = [\"accuracy\"] )"
   ]
  },
  {
   "cell_type": "code",
   "execution_count": 13,
   "id": "70730a1a",
   "metadata": {},
   "outputs": [],
   "source": [
    "optimizer = tf.keras.optimizers.Adam(learning_rate=0.00006)"
   ]
  },
  {
   "cell_type": "code",
   "execution_count": 14,
   "id": "5bcaf33b",
   "metadata": {},
   "outputs": [],
   "source": [
    "binary_cross_entropy = tf.keras.losses.BinaryCrossentropy()"
   ]
  },
  {
   "cell_type": "code",
   "execution_count": 15,
   "id": "e5199d9d",
   "metadata": {},
   "outputs": [],
   "source": [
    "def loss_fn(x, alpha=0.2):\n",
    "    \n",
    "    anchor, positive, negative = x\n",
    "    positive_dist = tf.keras.backend.sum(tf.keras.backend.square(anchor-positive), axis=-1)\n",
    "    \n",
    "    negative_dist = tf.keras.backend.sum(tf.keras.backend.square(anchor-negative), axis=-1)\n",
    "    \n",
    "    loss = tf.keras.backend.mean(tf.keras.backend.maximum((positive_dist - negative_dist + alpha), 0.0))\n",
    "    return loss"
   ]
  },
  {
   "cell_type": "code",
   "execution_count": 16,
   "id": "2e11f8f7",
   "metadata": {},
   "outputs": [],
   "source": [
    "def train_step(X):\n",
    "    with tf.GradientTape() as tape:\n",
    "        y_pred = model(X)\n",
    "        loss = loss_fn(y_pred)\n",
    "    \n",
    "    grad = tape.gradient(loss, model.trainable_variables)\n",
    "    optimizer.apply_gradients(zip(grad, model.trainable_variables))\n",
    "    return loss"
   ]
  },
  {
   "cell_type": "code",
   "execution_count": 17,
   "id": "7fdc2430",
   "metadata": {},
   "outputs": [],
   "source": [
    "data_generator = DataGenerator(dataset_path='dataset')"
   ]
  },
  {
   "cell_type": "code",
   "execution_count": 18,
   "id": "df963b64",
   "metadata": {},
   "outputs": [],
   "source": [
    "a, p, n = data_generator[0]"
   ]
  },
  {
   "cell_type": "code",
   "execution_count": 19,
   "id": "08242442",
   "metadata": {},
   "outputs": [],
   "source": [
    "checkpoint = tf.train.Checkpoint(model=model)"
   ]
  },
  {
   "cell_type": "code",
   "execution_count": 20,
   "id": "56a52783",
   "metadata": {},
   "outputs": [
    {
     "name": "stderr",
     "output_type": "stream",
     "text": [
      "Epoch1/16: 100%|██████████████| 15/15 [17:30<00:00, 70.02s/it, Loss:0.041928913]\n",
      "Epoch2/16: 100%|█████████████| 15/15 [53:17<00:00, 213.17s/it, Loss:0.037615664]\n",
      "Epoch3/16: 100%|███████████████| 15/15 [18:26<00:00, 73.74s/it, Loss:0.04089718]\n",
      "Epoch4/16: 100%|██████████████| 15/15 [18:32<00:00, 74.17s/it, Loss:0.035215173]\n",
      "Epoch5/16: 100%|██████████████| 15/15 [18:20<00:00, 73.36s/it, Loss:0.038043626]\n",
      "Epoch6/16: 100%|██████████████| 15/15 [19:01<00:00, 76.08s/it, Loss:0.030857252]\n",
      "Epoch7/16: 100%|███████████████| 15/15 [19:32<00:00, 78.19s/it, Loss:0.03377984]\n",
      "Epoch8/16: 100%|███████████████| 15/15 [19:24<00:00, 77.63s/it, Loss:0.03132672]\n",
      "Epoch9/16: 100%|██████████████| 15/15 [19:21<00:00, 77.46s/it, Loss:0.034429852]\n",
      "Epoch10/16: 100%|█████████████| 15/15 [19:29<00:00, 77.98s/it, Loss:0.028518379]\n",
      "Epoch11/16: 100%|██████████████| 15/15 [19:25<00:00, 77.72s/it, Loss:0.02482108]\n",
      "Epoch12/16: 100%|█████████████| 15/15 [19:31<00:00, 78.09s/it, Loss:0.026628284]\n",
      "Epoch13/16: 100%|█████████████| 15/15 [19:33<00:00, 78.25s/it, Loss:0.029330352]\n",
      "Epoch14/16: 100%|█████████████| 15/15 [19:46<00:00, 79.10s/it, Loss:0.030625762]\n",
      "Epoch15/16: 100%|█████████████| 15/15 [19:46<00:00, 79.10s/it, Loss:0.025084531]\n",
      "Epoch16/16: 100%|█████████████| 15/15 [19:53<00:00, 79.58s/it, Loss:0.024518369]\n"
     ]
    },
    {
     "name": "stdout",
     "output_type": "stream",
     "text": [
      "Checkpoint Saved\n"
     ]
    }
   ],
   "source": [
    "losses = []\n",
    "epochs = 16\n",
    "\n",
    "no_of_batches = data_generator.__len__()\n",
    "\n",
    "for i in range(1, epochs+1, 1):\n",
    "    \n",
    "    loss = 0\n",
    "    \n",
    "    with tqdm(total = no_of_batches) as pbar:\n",
    "        \n",
    "        description = \"Epoch\" + str(i) + \"/\" + str(epochs)\n",
    "        pbar.set_description_str(description)\n",
    "        \n",
    "        for j in range(no_of_batches):\n",
    "            data = data_generator[j]\n",
    "            temp = train_step(data)\n",
    "            loss += temp\n",
    "            \n",
    "            pbar.update()\n",
    "            pbar.set_postfix_str(\"Loss:\" + str(temp.numpy()))\n",
    "            \n",
    "        loss /= no_of_batches\n",
    "        losses.append(loss.numpy())\n",
    "        \n",
    "        with file_writer.as_default():\n",
    "            tf.summary.scalar('Loss', data=loss.numpy(), step=i)\n",
    "            \n",
    "        print_statement = \"Loss:\" + str(loss.numpy())\n",
    "        pbar.set_postfix_str(print_statement)\n",
    "\n",
    "checkpoint.save(checkpoint_path)\n",
    "print(\"Checkpoint Saved\")"
   ]
  },
  {
   "cell_type": "code",
   "execution_count": 37,
   "id": "3b7a4ecb",
   "metadata": {},
   "outputs": [
    {
     "name": "stderr",
     "output_type": "stream",
     "text": [
      "WARNING:absl:Found untraced functions such as get_features, _update_step_xla, _jit_compiled_convolution_op, _jit_compiled_convolution_op, _jit_compiled_convolution_op while saving (showing 5 of 15). These functions will not be directly callable after loading.\n"
     ]
    },
    {
     "name": "stdout",
     "output_type": "stream",
     "text": [
      "INFO:tensorflow:Assets written to: vgg_model/assets\n"
     ]
    },
    {
     "name": "stderr",
     "output_type": "stream",
     "text": [
      "INFO:tensorflow:Assets written to: vgg_model/assets\n"
     ]
    }
   ],
   "source": [
    "model.save(\"vgg_model\")"
   ]
  },
  {
   "cell_type": "code",
   "execution_count": 21,
   "id": "03bbb634",
   "metadata": {},
   "outputs": [
    {
     "data": {
      "text/plain": [
       "[<matplotlib.lines.Line2D at 0x7fb852742760>]"
      ]
     },
     "execution_count": 21,
     "metadata": {},
     "output_type": "execute_result"
    },
    {
     "data": {
      "image/png": "[encoded data removed]",
      "text/plain": [
       "<Figure size 432x288 with 1 Axes>"
      ]
     },
     "metadata": {
      "needs_background": "light"
     },
     "output_type": "display_data"
    }
   ],
   "source": [
    "plt.plot(losses)"
   ]
  },
  {
   "cell_type": "code",
   "execution_count": 22,
   "id": "2520f437",
   "metadata": {},
   "outputs": [],
   "source": [
    "data_dir = 'data'"
   ]
  },
  {
   "cell_type": "code",
   "execution_count": 45,
   "id": "03fbf41b",
   "metadata": {},
   "outputs": [
    {
     "name": "stdout",
     "output_type": "stream",
     "text": [
      "Enter your name: codiep\n"
     ]
    }
   ],
   "source": [
    "name = input(\"Enter your name: \")\n",
    "os.mkdir(os.path.join(data_dir, name))\n",
    "\n",
    "cap = cv2.VideoCapture(0)\n",
    "img_num = 0\n",
    "\n",
    "while True:\n",
    "    ret, frame = cap.read()\n",
    "    cv2.imshow(\"Image\", frame)\n",
    "    \n",
    "    if cv2.waitKey(1) == ord(\"s\"):\n",
    "        cv2.imwrite(os.path.join(data_dir, name + '/' + str(img_num) + '.jpg'), frame)\n",
    "        img_num += 1\n",
    "    if cv2.waitKey(1) == ord(\"q\"):\n",
    "        break\n",
    "\n",
    "cap.release()\n",
    "cv2.destroyAllWindows()"
   ]
  },
  {
   "cell_type": "code",
   "execution_count": 23,
   "id": "604c5592",
   "metadata": {},
   "outputs": [],
   "source": [
    "features = []\n",
    "people = sorted(os.listdir(data_dir))\n",
    "face_detector = dlib.get_frontal_face_detector()\n",
    "dumpable_features = {}"
   ]
  },
  {
   "cell_type": "code",
   "execution_count": 24,
   "id": "eebd6f39",
   "metadata": {},
   "outputs": [
    {
     "name": "stdout",
     "output_type": "stream",
     "text": [
      "data/.DS_Store\n",
      "data/codiep\n",
      "data/hung\n",
      "data/quanganh\n"
     ]
    }
   ],
   "source": [
    "for p in people:\n",
    "    person_path = os.path.join(data_dir, p)\n",
    "    print(person_path)\n",
    "    \n",
    "    images = []\n",
    "    if os.path.isdir(person_path):\n",
    "        for img in os.listdir(person_path):\n",
    "            img_path = os.path.join(person_path, img)\n",
    "            image = cv2.imread(img_path)\n",
    "            gray = cv2.cvtColor(image, cv2.COLOR_BGR2GRAY)\n",
    "            faces = face_detector(gray, 0)\n",
    "\n",
    "            if len(faces) == 1:\n",
    "                for face in faces:\n",
    "                    face_bbox = face_utils.rect_to_bb(face)\n",
    "                    if all(i>=0 for i in face_bbox):\n",
    "                        [x, y, w, h] = face_bbox\n",
    "                        frame = image[y:y+h, x:x+w]\n",
    "                        frame = cv2.resize(frame, (224, 224))\n",
    "                        frame = np.asarray(frame, dtype=np.float64)\n",
    "                        images.append(frame)\n",
    "                    \n",
    "        images = np.asarray(images)\n",
    "        images = preprocess_input(images)\n",
    "        images = tf.convert_to_tensor(images)\n",
    "\n",
    "        feature = model.get_features(images)\n",
    "        feature = tf.reduce_mean(feature, axis=0)\n",
    "        features.append(feature.numpy())\n",
    "        dumpable_features[p] = feature.numpy()"
   ]
  },
  {
   "cell_type": "code",
   "execution_count": 25,
   "id": "46941168",
   "metadata": {},
   "outputs": [],
   "source": [
    "import pickle"
   ]
  },
  {
   "cell_type": "code",
   "execution_count": 26,
   "id": "d27af646",
   "metadata": {},
   "outputs": [],
   "source": [
    "with open('weigths.pkl', 'wb') as f:\n",
    "    pickle.dump(dumpable_features, f) "
   ]
  },
  {
   "cell_type": "code",
   "execution_count": 27,
   "id": "97a1285d",
   "metadata": {},
   "outputs": [],
   "source": [
    "with open('weigths.pkl', 'rb') as f:\n",
    "    dumpable_features_reloaded = pickle.load(f)\n",
    "\n",
    "people = []\n",
    "features = []\n",
    "for key, value in dumpable_features_reloaded.items():\n",
    "    people.append(key)\n",
    "    features.append(value)"
   ]
  },
  {
   "cell_type": "code",
   "execution_count": 28,
   "id": "517dc809",
   "metadata": {},
   "outputs": [],
   "source": [
    "features = np.asarray(features)"
   ]
  },
  {
   "cell_type": "code",
   "execution_count": null,
   "id": "4499e97b",
   "metadata": {},
   "outputs": [],
   "source": [
    "cap = cv2.VideoCapture(0)\n",
    "count = 0\n",
    "name = \"not identified\"\n",
    "\n",
    "while True:\n",
    "    ret, img = cap.read()\n",
    "    gray = cv2.cvtColor(img, cv2.COLOR_BGR2GRAY)\n",
    "    \n",
    "    faces = face_detector(gray, 0)\n",
    "    for face in faces:\n",
    "        face_bbox = face_utils.rect_to_bb(face)\n",
    "        if all(i>=0 for i in face_bbox):\n",
    "            [x, y, w, h] = face_bbox\n",
    "            frame = img[y:y+h, x:x+w]\n",
    "            cv2.rectangle(img, (x, y), (x+w, y+h), (0, 255, 0), 2)\n",
    "            frame = cv2.resize(frame, (224, 224))\n",
    "            frame = np.asarray(frame, dtype=np.float64)\n",
    "            frame = np.expand_dims(frame, axis=0)\n",
    "            frame = preprocess_input(frame)\n",
    "            \n",
    "            feature = model.get_features(frame)\n",
    "            \n",
    "            dist = tf.norm(features - feature, axis=1)\n",
    "            name = 'not identified'\n",
    "            loc = tf.argmin(dist)\n",
    "            \n",
    "            if dist[loc] < 0.8:\n",
    "                name = people[loc]\n",
    "            else:\n",
    "                pass\n",
    "            \n",
    "            font_face = cv2.FONT_HERSHEY_SIMPLEX\n",
    "            cv2.putText(img, name, (x, y-5), font_face, 0.8, (0, 255, 0), 3)\n",
    "    \n",
    "    cv2.imshow(\"Image\", img)\n",
    "    if cv2.waitKey(1) == ord(\"q\"):\n",
    "        break\n",
    "cap.release()\n",
    "cv2.destroyAllWindows()"
   ]
  },
  {
   "cell_type": "code",
   "execution_count": 84,
   "id": "dff1e28a",
   "metadata": {},
   "outputs": [],
   "source": [
    "import matplotlib.pyplot as plt"
   ]
  },
  {
   "cell_type": "code",
   "execution_count": 87,
   "id": "870846c6",
   "metadata": {},
   "outputs": [
    {
     "data": {
      "text/plain": [
       "[<matplotlib.lines.Line2D at 0x7f9851b4f520>]"
      ]
     },
     "execution_count": 87,
     "metadata": {},
     "output_type": "execute_result"
    },
    {
     "data": {
      "image/png": "[encoded data removed]",
      "text/plain": [
       "<Figure size 432x288 with 1 Axes>"
      ]
     },
     "metadata": {
      "needs_background": "light"
     },
     "output_type": "display_data"
    }
   ],
   "source": [
    "plt.plot(losses)"
   ]
  },
  {
   "cell_type": "code",
   "execution_count": null,
   "id": "24ae9ddd",
   "metadata": {},
   "outputs": [],
   "source": []
  },
  {
   "cell_type": "code",
   "execution_count": null,
   "id": "6d937ecc",
   "metadata": {},
   "outputs": [],
   "source": []
  },
  {
   "cell_type": "code",
   "execution_count": null,
   "id": "49561804",
   "metadata": {},
   "outputs": [],
   "source": []
  }
 ],
 "metadata": {
  "kernelspec": {
   "display_name": "Python 3 (ipykernel)",
   "language": "python",
   "name": "python3"
  },
  "language_info": {
   "codemirror_mode": {
    "name": "ipython",
    "version": 3
   },
   "file_extension": ".py",
   "mimetype": "text/x-python",
   "name": "python",
   "nbconvert_exporter": "python",
   "pygments_lexer": "ipython3",
   "version": "3.9.5"
  }
 },
 "nbformat": 4,
 "nbformat_minor": 5
}
